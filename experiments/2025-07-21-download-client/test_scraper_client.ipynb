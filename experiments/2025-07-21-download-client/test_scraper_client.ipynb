{
 "cells": [
  {
   "cell_type": "code",
   "execution_count": 1,
   "metadata": {},
   "outputs": [
    {
     "name": "stderr",
     "output_type": "stream",
     "text": [
      "/opt/homebrew/Caskroom/miniforge/base/envs/padre/lib/python3.10/site-packages/tqdm/auto.py:21: TqdmWarning: IProgress not found. Please update jupyter and ipywidgets. See https://ipywidgets.readthedocs.io/en/stable/user_install.html\n",
      "  from .autonotebook import tqdm as notebook_tqdm\n"
     ]
    }
   ],
   "source": [
    "import itertools\n",
    "import re\n",
    "from pprint import pprint\n",
    "\n",
    "import astropy.units as u\n",
    "import sunpy.net.attr as attr\n",
    "from astropy.time import Time, TimeDelta\n",
    "from padre_meddea.util.util import parse_science_filename\n",
    "from sunpy.extern.parse import parse\n",
    "from sunpy.net import Fido\n",
    "from sunpy.net import attrs as a\n",
    "from sunpy.net.attr import SimpleAttr\n",
    "from sunpy.net.dataretriever import GenericClient, QueryResponse\n",
    "from sunpy.net.scraper import Scraper, get_timerange_from_exdict\n",
    "from sunpy.time import TimeRange"
   ]
  },
  {
   "cell_type": "code",
   "execution_count": 2,
   "metadata": {},
   "outputs": [
    {
     "data": {
      "text/plain": [
       "'6.0.6'"
      ]
     },
     "execution_count": 2,
     "metadata": {},
     "output_type": "execute_result"
    }
   ],
   "source": [
    "import sunpy\n",
    "\n",
    "sunpy.__version__"
   ]
  },
  {
   "cell_type": "code",
   "execution_count": 3,
   "metadata": {},
   "outputs": [],
   "source": [
    "from typing import List\n",
    "\n",
    "\n",
    "class DataType(SimpleAttr):\n",
    "    \"\"\"\n",
    "    Attribute for specifying the data type for the search.\n",
    "\n",
    "    Attributes\n",
    "    ----------\n",
    "    value : str\n",
    "        The data type value.\n",
    "    \"\"\"\n",
    "\n",
    "\n",
    "class PADREClient(GenericClient):\n",
    "    \"\"\"\n",
    "    PADRE data client for accessing spectrum data from the PADRE mission.\n",
    "    \"\"\"\n",
    "\n",
    "    # NOTE: Works for SunPy >= v7.0.0\n",
    "    # pattern = (\n",
    "    #     \"https://umbra.nascom.nasa.gov/padre/padre-{{Instrument}}/{{Level}}/{{DataType}}/{{year:4d}}/{{month:2d}}/{{day:2d}}/\"\n",
    "    #     \"padre_{{Instrument}}_{{Level}}_{{DataType}}_{{year:4d}}{{month:2d}}{{day:2d}}T{{hour:2d}}{{minute:2d}}{{second:2d}}_v0.1.0.fits\"\n",
    "    # )\n",
    "\n",
    "    # NOTE: When working with SunPy < v7.0.0, use the following combination of baseurl and pattern\n",
    "    # Used for Data Levels \"l0\", \"l1\" and above\n",
    "    # Example: https://umbra.nascom.nasa.gov/padre/padre-meddea/l0/spectrum/2025/05/01/padre_meddea_l0_spectrum_20250501T000000_v0.1.0.fits\n",
    "    baseurl_l0_plus = (\n",
    "        r\"https://umbra.nascom.nasa.gov/padre/padre-{{Instrument}}/{{Level}}/{{DataType}}/%Y/%m/%d/\"\n",
    "        r\"padre_{{Instrument}}_{{Level}}(?:test)?_{{DataType}}_%Y%m%dT%H%M%S_v0.1.0.fits\"\n",
    "    )\n",
    "    pattern_l0_plus = \"{}/padre_{Instrument}_{Level}_{DataType}_{year:4d}{month:2d}{day:2d}T{hour:2d}{minute:2d}{second:2d}_v0.1.0.fits\"\n",
    "\n",
    "    # Used for Data Level \"raw\"\n",
    "    # Example: https://umbra.nascom.nasa.gov/padre/padre-meddea/raw/2025/05/01/PADREMDA0_250504055133.DAT\n",
    "    baseurl_raw = (\n",
    "        r\"https://umbra.nascom.nasa.gov/padre/padre-{{Instrument}}/{{Level}}/%Y/%m/%d/\"\n",
    "        r\"PADREMD{{DataType}}_%y%m%d%H%M%S.DAT\"\n",
    "    )\n",
    "    pattern_raw = \"{}/PADREMD{DataType}_{year:2d}{month:2d}{day:2d}{hour:2d}{minute:2d}{second:2d}.DAT\"\n",
    "\n",
    "    @classmethod\n",
    "    def register_values(cls):\n",
    "        adict = {\n",
    "            a.Provider: [(\"sdac\", \"The Solar Data Analysis Center.\")],\n",
    "            a.Source: [\n",
    "                (\"padre\", \"(The Solar Polarization and Directivity X-Ray Experiment)\")\n",
    "            ],\n",
    "            a.Instrument: [\n",
    "                (\n",
    "                    \"meddea\",\n",
    "                    \"Measuring Directivity to Determine Electron Anisotropy (MeDDEA)\",\n",
    "                ),\n",
    "            ],\n",
    "            DataType: [\n",
    "                (\"spectrum\", \"Spectrum data from MeDDEA.\"),\n",
    "                (\"photon\", \"Photon data from MeDDEA.\"),\n",
    "                (\"housekeeping\", \"Housekeeping data from MeDDEA.\"),\n",
    "            ],\n",
    "            a.Level: [\n",
    "                (\"raw\", \"Raw Binary CCSDS Packet data\"),\n",
    "                (\"l0\", \"Raw data, converted to FITS, not in physical units.\"),\n",
    "                (\"l1\", \"Processed data, not in physical units.\"),\n",
    "            ],\n",
    "        }\n",
    "        return adict\n",
    "\n",
    "    def search(self, *args, **kwargs):\n",
    "        \"\"\"\n",
    "        Query this client for a list of results.\n",
    "\n",
    "        Parameters\n",
    "        ----------\n",
    "        \\\\*args: `tuple`\n",
    "            `sunpy.net.attrs` objects representing the query.\n",
    "        \\\\*\\\\*kwargs: `dict`\n",
    "             Any extra keywords to refine the search.\n",
    "\n",
    "        Returns\n",
    "        -------\n",
    "        A `QueryResponse` instance containing the query result.\n",
    "        \"\"\"\n",
    "        matchdict = self._get_match_dict(*args, **kwargs)\n",
    "\n",
    "        # Base URLs and Patterns to Search\n",
    "        baseurls = [self.baseurl_l0_plus]\n",
    "        patterns = [self.pattern_l0_plus]\n",
    "        # Get Level constraints from matchdict - See if we need to add raw data to Search Space\n",
    "        level_constraints = matchdict.get(\"Level\", {})\n",
    "        if \"raw\" in level_constraints:\n",
    "            baseurls.append(self.baseurl_raw)\n",
    "            patterns.append(self.pattern_raw)\n",
    "\n",
    "        # Initialize an empty list to hold metadata\n",
    "        # This will be populated with metadata for each file found\n",
    "        metalist = []\n",
    "        for baseurl, pattern in zip(baseurls, patterns):\n",
    "            # Only replace DataType, Time in matchdict if the baseurl is the raw data URL\n",
    "            if baseurl == self.baseurl_raw:\n",
    "                # Template Replacement for DataType\n",
    "                datatype_to_shortname = {\n",
    "                    \"photon\": \"A0\",\n",
    "                    \"spectrum\": \"A2\",\n",
    "                    \"housekeeping\": \"U8\",\n",
    "                }\n",
    "                # Fix the DataType placeholder for Raw Data Files\n",
    "                new_datatypes = []\n",
    "                for data_type in matchdict.get(\"DataType\", []):\n",
    "                    new_datatypes.append(\n",
    "                        datatype_to_shortname.get(data_type, data_type)\n",
    "                    )\n",
    "                matchdict[\"DataType\"] = new_datatypes\n",
    "                # Fix the Start Time and End Time for Raw Data Files\n",
    "                original_start = matchdict.get(\"Start Time\")\n",
    "                original_end = matchdict.get(\"End Time\")\n",
    "                # Get the year as a string and take just the last 2 digits\n",
    "                start_year_2digit = str(original_start.datetime.year)[-2:]\n",
    "                end_year_2digit = str(original_end.datetime.year)[-2:]\n",
    "\n",
    "                # Reconstruct the dates with 2-digit years\n",
    "                start_time = Time(\n",
    "                    f\"00{start_year_2digit}-{original_start.datetime.month:02d}-{original_start.datetime.day:02d}T{original_start.datetime.hour:02d}:{original_start.datetime.minute:02d}:{original_start.datetime.second:02d}.000\"\n",
    "                )\n",
    "                end_time = Time(\n",
    "                    f\"00{end_year_2digit}-{original_end.datetime.month:02d}-{original_end.datetime.day:02d}T{original_end.datetime.hour:02d}:{original_end.datetime.minute:02d}:{original_end.datetime.second:02d}.000\"\n",
    "                )\n",
    "                # Reset the Start Time and End Time in matchdict\n",
    "                matchdict[\"Start Time\"] = start_time\n",
    "                matchdict[\"End Time\"] = end_time\n",
    "\n",
    "            # baseurl, pattern, matchdict = self.pre_search_hook(*args, **kwargs)\n",
    "            # print(\n",
    "            #     f\"Finished _pre_search_hook with \\n\\tbaseurl: {baseurl}, \\n\\tpattern: {pattern} and \\n\\tmatchdict: {matchdict}\",\n",
    "            #     end=\"\",\n",
    "            # )\n",
    "            # pprint(matchdict)\n",
    "\n",
    "            # Generate URLs for scraping\n",
    "            scraper_urls = self.generate_url_permutations(baseurl, matchdict)\n",
    "            # print(f\"Generated URLs: {scraper_urls}\")\n",
    "            for scraper_url in scraper_urls:\n",
    "                # Create Scraper instance with the complete URL pattern\n",
    "                scraper = Scraper(pattern=scraper_url)\n",
    "                tr = TimeRange(matchdict[\"Start Time\"], matchdict[\"End Time\"])\n",
    "                # Get File Metadata for the populated URL Pattern & Time Range\n",
    "                filesmeta = scraper._extract_files_meta(\n",
    "                    tr, extractor=pattern, matcher=matchdict\n",
    "                )\n",
    "                # print(f\"Finished _extract_files_meta with filesmeta: {filesmeta}\")\n",
    "                filesmeta = sorted(filesmeta, key=lambda k: k[\"url\"])\n",
    "                for i in filesmeta:\n",
    "                    rowdict = self.post_search_hook(i, matchdict)\n",
    "\n",
    "                    # NEW - use parse_science_filename to extract metadata from the filename\n",
    "                    # filename = i[\"url\"].split(\"/\")[-1]\n",
    "                    # filename_meta = parse_science_filename(filename)\n",
    "                    # print(f\"Parsed filename metadata: {filename_meta}\")\n",
    "                    # rowdict.update(filename_meta)\n",
    "\n",
    "                    if rowdict:\n",
    "                        metalist.append(rowdict)\n",
    "        # pprint(f\"Final metalist: {metalist}\")\n",
    "        return QueryResponse(metalist, client=self)\n",
    "\n",
    "    def generate_url_permutations(self, pattern, matchdict):\n",
    "        # Extract placeholders from the pattern\n",
    "        placeholder_regex = r\"{{([^:}]+)(?::.*?)?}}\"\n",
    "        placeholders = re.findall(placeholder_regex, pattern)\n",
    "\n",
    "        # Filter to only placeholders we have in our dictionary\n",
    "        valid_placeholders = [p for p in placeholders if p in matchdict]\n",
    "        # make sure we don't have duplicates\n",
    "        valid_placeholders = list(set(valid_placeholders))\n",
    "\n",
    "        # Get all values for each placeholder\n",
    "        placeholder_values = [\n",
    "            matchdict[p] if isinstance(matchdict[p], list) else [matchdict[p]]\n",
    "            for p in valid_placeholders\n",
    "        ]\n",
    "\n",
    "        # Generate all combinations\n",
    "        urls = []\n",
    "        for combo in itertools.product(*placeholder_values):\n",
    "            url = pattern\n",
    "            for placeholder, value in zip(valid_placeholders, combo):\n",
    "                url = url.replace(f\"{{{{{placeholder}}}}}\", str(value))\n",
    "                # Handle any format specifiers\n",
    "                format_pattern = re.compile(f\"{{{{{placeholder}:.*?}}}}\")\n",
    "                url = format_pattern.sub(str(value), url)\n",
    "            urls.append(url)\n",
    "\n",
    "        return urls"
   ]
  },
  {
   "cell_type": "markdown",
   "metadata": {},
   "source": [
    "## Test Getting Raw, Level 0, and Level 1 Data All Together"
   ]
  },
  {
   "cell_type": "code",
   "execution_count": 4,
   "metadata": {},
   "outputs": [
    {
     "name": "stderr",
     "output_type": "stream",
     "text": [
      "/opt/homebrew/Caskroom/miniforge/base/envs/padre/lib/python3.10/site-packages/erfa/core.py:133: ErfaWarning: ERFA function \"dtf2d\" yielded 1 of \"dubious year (Note 6)\"\n",
      "  warn(f'ERFA function \"{func_name}\" yielded {wmsg}', ErfaWarning)\n",
      "/opt/homebrew/Caskroom/miniforge/base/envs/padre/lib/python3.10/site-packages/erfa/core.py:133: ErfaWarning: ERFA function \"d2dtf\" yielded 1 of \"dubious year (Note 5)\"\n",
      "  warn(f'ERFA function \"{func_name}\" yielded {wmsg}', ErfaWarning)\n"
     ]
    },
    {
     "data": {
      "text/html": [
       "Results from 1 Provider:</br></br>1 Results from the PADREClient:</br><div><i>QueryResponse length=1</i>\n",
       "<table id=\"table4877711872\" class=\"table-striped table-bordered table-condensed\">\n",
       "<thead><tr><th>Start Time</th><th>End Time</th><th>Provider</th><th>Source</th><th>Instrument</th><th>DataType</th><th>Level</th></tr></thead>\n",
       "<thead><tr><th>Time</th><th>Time</th><th>str4</th><th>str5</th><th>str6</th><th>str8</th><th>str2</th></tr></thead>\n",
       "<tr><td>2025-05-04 00:00:00.000</td><td>2025-05-04 00:00:00.999</td><td>SDAC</td><td>PADRE</td><td>meddea</td><td>spectrum</td><td>l1</td></tr>\n",
       "</table></div></br>"
      ],
      "text/plain": [
       "<sunpy.net.fido_factory.UnifiedResponse object at 0x122bbf940>\n",
       "Results from 1 Provider:\n",
       "\n",
       "1 Results from the PADREClient:\n",
       "\n",
       "       Start Time               End Time        Provider ... DataType Level\n",
       "----------------------- ----------------------- -------- ... -------- -----\n",
       "2025-05-04 00:00:00.000 2025-05-04 00:00:00.999     SDAC ... spectrum    l1\n"
      ]
     },
     "execution_count": 4,
     "metadata": {},
     "output_type": "execute_result"
    }
   ],
   "source": [
    "results = Fido.search(\n",
    "    a.Time(\"2025-05-01\", \"2025-05-05\") & a.Instrument.meddea & DataType.spectrum\n",
    ")\n",
    "results"
   ]
  },
  {
   "cell_type": "markdown",
   "metadata": {},
   "source": [
    "## Test Getting All Level 1 Data Across All Data Types"
   ]
  },
  {
   "cell_type": "code",
   "execution_count": 5,
   "metadata": {},
   "outputs": [
    {
     "data": {
      "text/html": [
       "Results from 1 Provider:</br></br>2 Results from the PADREClient:</br><div><i>QueryResponse length=2</i>\n",
       "<table id=\"table4903857712\" class=\"table-striped table-bordered table-condensed\">\n",
       "<thead><tr><th>Start Time</th><th>End Time</th><th>Provider</th><th>Source</th><th>Instrument</th><th>DataType</th><th>Level</th></tr></thead>\n",
       "<thead><tr><th>Time</th><th>Time</th><th>str4</th><th>str5</th><th>str6</th><th>str12</th><th>str2</th></tr></thead>\n",
       "<tr><td>2025-05-04 00:00:00.000</td><td>2025-05-04 00:00:00.999</td><td>SDAC</td><td>PADRE</td><td>meddea</td><td>spectrum</td><td>l1</td></tr>\n",
       "<tr><td>2025-05-04 00:00:00.000</td><td>2025-05-04 00:00:00.999</td><td>SDAC</td><td>PADRE</td><td>meddea</td><td>housekeeping</td><td>l1</td></tr>\n",
       "</table></div></br>"
      ],
      "text/plain": [
       "<sunpy.net.fido_factory.UnifiedResponse object at 0x122be5480>\n",
       "Results from 1 Provider:\n",
       "\n",
       "2 Results from the PADREClient:\n",
       "\n",
       "       Start Time               End Time        Provider ...   DataType   Level\n",
       "----------------------- ----------------------- -------- ... ------------ -----\n",
       "2025-05-04 00:00:00.000 2025-05-04 00:00:00.999     SDAC ...     spectrum    l1\n",
       "2025-05-04 00:00:00.000 2025-05-04 00:00:00.999     SDAC ... housekeeping    l1\n"
      ]
     },
     "execution_count": 5,
     "metadata": {},
     "output_type": "execute_result"
    }
   ],
   "source": [
    "results = Fido.search(\n",
    "    a.Time(\"2025-05-01\", \"2025-05-05\") & a.Instrument.meddea & a.Level.l1\n",
    ")\n",
    "results"
   ]
  },
  {
   "cell_type": "markdown",
   "metadata": {},
   "source": [
    "## Test Getting L1 Photon Data (Does not exist yet)"
   ]
  },
  {
   "cell_type": "code",
   "execution_count": 6,
   "metadata": {},
   "outputs": [
    {
     "data": {
      "text/html": [
       "Results from 1 Provider:</br></br>0 Results from the PADREClient:</br><div><i>QueryResponse length=0</i>\n",
       "<No columns></div></br>"
      ],
      "text/plain": [
       "<sunpy.net.fido_factory.UnifiedResponse object at 0x122be4520>\n",
       "Results from 1 Provider:\n",
       "\n",
       "0 Results from the PADREClient:\n",
       "\n",
       "<No columns>\n"
      ]
     },
     "execution_count": 6,
     "metadata": {},
     "output_type": "execute_result"
    }
   ],
   "source": [
    "results = Fido.search(\n",
    "    a.Time(\"2025-05-01\", \"2025-05-05\")\n",
    "    & a.Instrument.meddea\n",
    "    & a.Level.l1\n",
    "    & DataType.photon\n",
    ")\n",
    "results"
   ]
  },
  {
   "cell_type": "markdown",
   "metadata": {},
   "source": [
    "## Test Getting all RAW Data"
   ]
  },
  {
   "cell_type": "code",
   "execution_count": 7,
   "metadata": {},
   "outputs": [
    {
     "name": "stderr",
     "output_type": "stream",
     "text": [
      "/opt/homebrew/Caskroom/miniforge/base/envs/padre/lib/python3.10/site-packages/erfa/core.py:133: ErfaWarning: ERFA function \"dtf2d\" yielded 1 of \"dubious year (Note 6)\"\n",
      "  warn(f'ERFA function \"{func_name}\" yielded {wmsg}', ErfaWarning)\n",
      "/opt/homebrew/Caskroom/miniforge/base/envs/padre/lib/python3.10/site-packages/erfa/core.py:133: ErfaWarning: ERFA function \"d2dtf\" yielded 1 of \"dubious year (Note 5)\"\n",
      "  warn(f'ERFA function \"{func_name}\" yielded {wmsg}', ErfaWarning)\n"
     ]
    },
    {
     "data": {
      "text/html": [
       "Results from 1 Provider:</br></br>0 Results from the PADREClient:</br><div><i>QueryResponse length=0</i>\n",
       "<No columns></div></br>"
      ],
      "text/plain": [
       "<sunpy.net.fido_factory.UnifiedResponse object at 0x1244af6a0>\n",
       "Results from 1 Provider:\n",
       "\n",
       "0 Results from the PADREClient:\n",
       "\n",
       "<No columns>\n"
      ]
     },
     "execution_count": 7,
     "metadata": {},
     "output_type": "execute_result"
    }
   ],
   "source": [
    "results = Fido.search(\n",
    "    a.Time(\"2025-05-01\", \"2025-05-05\") & a.Instrument.meddea & a.Level.raw\n",
    ")\n",
    "results"
   ]
  },
  {
   "cell_type": "code",
   "execution_count": 8,
   "metadata": {},
   "outputs": [
    {
     "name": "stderr",
     "output_type": "stream",
     "text": [
      "Files Downloaded: 0file [00:00, ?file/s]\n"
     ]
    },
    {
     "data": {
      "text/plain": [
       "<parfive.results.Results object at 0x125b14850>\n",
       "[]"
      ]
     },
     "execution_count": 8,
     "metadata": {},
     "output_type": "execute_result"
    }
   ],
   "source": [
    "import tempfile\n",
    "\n",
    "with tempfile.TemporaryDirectory() as temp_dir:\n",
    "    downloaded_files = Fido.fetch(results, path=temp_dir)\n",
    "downloaded_files"
   ]
  },
  {
   "cell_type": "code",
   "execution_count": null,
   "metadata": {},
   "outputs": [],
   "source": []
  }
 ],
 "metadata": {
  "kernelspec": {
   "display_name": "padre",
   "language": "python",
   "name": "python3"
  },
  "language_info": {
   "codemirror_mode": {
    "name": "ipython",
    "version": 3
   },
   "file_extension": ".py",
   "mimetype": "text/x-python",
   "name": "python",
   "nbconvert_exporter": "python",
   "pygments_lexer": "ipython3",
   "version": "3.10.18"
  }
 },
 "nbformat": 4,
 "nbformat_minor": 2
}
