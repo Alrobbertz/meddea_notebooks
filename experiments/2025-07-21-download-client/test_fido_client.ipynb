{
 "cells": [
  {
   "cell_type": "code",
   "execution_count": 1,
   "metadata": {},
   "outputs": [],
   "source": [
    "import re\n",
    "import itertools\n",
    "\n",
    "from sunpy.net import Fido, attrs as a\n",
    "from sunpy.net.attr import SimpleAttr\n",
    "from sunpy.net.dataretriever import GenericClient, QueryResponse\n",
    "from sunpy.net.scraper import Scraper\n",
    "from sunpy.time import TimeRange"
   ]
  },
  {
   "cell_type": "code",
   "execution_count": 2,
   "metadata": {},
   "outputs": [
    {
     "data": {
      "text/plain": [
       "'7.0.0'"
      ]
     },
     "execution_count": 2,
     "metadata": {},
     "output_type": "execute_result"
    }
   ],
   "source": [
    "import sunpy\n",
    "sunpy.__version__"
   ]
  },
  {
   "cell_type": "code",
   "execution_count": 3,
   "metadata": {},
   "outputs": [],
   "source": [
    "class DataType(SimpleAttr):\n",
    "    \"\"\"\n",
    "    Attribute for specifying the data type for the search.\n",
    "\n",
    "    Attributes\n",
    "    ----------\n",
    "    value : str\n",
    "        The data type value.\n",
    "    \"\"\"\n",
    "\n",
    "\n",
    "class PADREClient(GenericClient):\n",
    "    \"\"\"\n",
    "    PADRE data client for accessing spectrum data from the PADRE mission.\n",
    "    \"\"\"\n",
    "\n",
    "    pattern = (\n",
    "        \"https://umbra.nascom.nasa.gov/padre/padre-{{Instrument}}/{{Level}}/{{DataType}}/{{year:4d}}/{{month:2d}}/{{day:2d}}/\"\n",
    "        \"padre_{{Instrument}}_{{Level}}_{{DataType}}_{{year:4d}}{{month:2d}}{{day:2d}}T{{hour:2d}}{{minute:2d}}{{second:2d}}_v0.1.0.fits\"\n",
    "    )\n",
    "\n",
    "    @classmethod\n",
    "    def register_values(cls):\n",
    "        adict = {\n",
    "            a.Provider: [(\"sdac\", \"The Solar Data Analysis Center.\")],\n",
    "            a.Source: [\n",
    "                (\"padre\", \"(The Solar Polarization and Directivity X-Ray Experiment)\")\n",
    "            ],\n",
    "            a.Instrument: [\n",
    "                (\n",
    "                    \"meddea\",\n",
    "                    \"Measuring Directivity to Determine Electron Anisotropy (MeDDEA)\",\n",
    "                ),\n",
    "                (\"sharp\", \"Solar Hard X-ray Polarimeter (SHARP)\"),\n",
    "            ],\n",
    "            DataType: [\n",
    "                (\"spectrum\", \"Spectrum data from MeDDEA.\"),\n",
    "                (\"photon\", \"Photon data from MeDDEA.\"),\n",
    "                (\"housekeeping\", \"Housekeeping data from MeDDEA.\"),\n",
    "                (\"unknown\", \"All the SHARP data has 'unknown' data type.\"),\n",
    "            ],\n",
    "            a.Level: [\n",
    "                (\"l0\", \"Raw data, converted to FITS, not in physical units.\"),\n",
    "                (\"l1\", \"Processed data, not in physical units.\"),\n",
    "            ],\n",
    "        }\n",
    "        return adict\n",
    "\n",
    "    def search(self, *args, **kwargs):\n",
    "        \"\"\"\n",
    "        Query this client for a list of results.\n",
    "\n",
    "        Parameters\n",
    "        ----------\n",
    "        \\\\*args: `tuple`\n",
    "            `sunpy.net.attrs` objects representing the query.\n",
    "        \\\\*\\\\*kwargs: `dict`\n",
    "             Any extra keywords to refine the search.\n",
    "\n",
    "        Returns\n",
    "        -------\n",
    "        A `QueryResponse` instance containing the query result.\n",
    "        \"\"\"\n",
    "        # baseurl added for backwards compatibility purposes only\n",
    "        _, pattern, matchdict = self.pre_search_hook(*args, **kwargs)\n",
    "        # print(\n",
    "        #     f\"Finished _pre_search_hook with pattern: {pattern}, matchdict: {matchdict}\"\n",
    "        # )\n",
    "        pattern_stem = \"/\".join(pattern.split(\"/\")[:-1]) + \"/\"\n",
    "        filename_pattern = pattern.split(\"/\")[-1]\n",
    "\n",
    "        scraper_urls = self.generate_url_permutations(pattern_stem, matchdict)\n",
    "        # print(f\"Generated URLs: {scraper_urls}\")\n",
    "\n",
    "        metalist = []\n",
    "        for url_stem in scraper_urls:\n",
    "            # Populated matchdict parameters into the URL stem & append filename pattern\n",
    "            url_file_pattern = url_stem + filename_pattern\n",
    "            # Create Scraper instance with the complete URL pattern\n",
    "            scraper = Scraper(format=url_file_pattern)\n",
    "            tr = TimeRange(matchdict[\"Start Time\"], matchdict[\"End Time\"])\n",
    "            # Get File Metadata for the populated URL Pattern & Time Range\n",
    "            filesmeta = scraper._extract_files_meta(tr, matcher=matchdict)\n",
    "            # print(f\"Finished _extract_files_meta with filesmeta: {filesmeta}\")\n",
    "            filesmeta = sorted(filesmeta, key=lambda k: k[\"url\"])\n",
    "            for i in filesmeta:\n",
    "                rowdict = self.post_search_hook(i, matchdict)\n",
    "                if rowdict:\n",
    "                    metalist.append(rowdict)\n",
    "        return QueryResponse(metalist, client=self)\n",
    "\n",
    "    def generate_url_permutations(self, pattern, matchdict):\n",
    "        # Extract placeholders from the pattern\n",
    "        placeholder_regex = r\"{{([^:}]+)(?::.*?)?}}\"\n",
    "        placeholders = re.findall(placeholder_regex, pattern)\n",
    "\n",
    "        # Filter to only placeholders we have in our dictionary\n",
    "        valid_placeholders = [p for p in placeholders if p in matchdict]\n",
    "\n",
    "        # Get all values for each placeholder\n",
    "        placeholder_values = [\n",
    "            matchdict[p] if isinstance(matchdict[p], list) else [matchdict[p]]\n",
    "            for p in valid_placeholders\n",
    "        ]\n",
    "\n",
    "        # Generate all combinations\n",
    "        urls = []\n",
    "        for combo in itertools.product(*placeholder_values):\n",
    "            url = pattern\n",
    "            for placeholder, value in zip(valid_placeholders, combo):\n",
    "                url = url.replace(f\"{{{{{placeholder}}}}}\", str(value))\n",
    "                # Handle any format specifiers\n",
    "                format_pattern = re.compile(f\"{{{{{placeholder}:.*?}}}}\")\n",
    "                url = format_pattern.sub(str(value), url)\n",
    "            urls.append(url)\n",
    "\n",
    "        return urls"
   ]
  },
  {
   "cell_type": "code",
   "execution_count": 4,
   "metadata": {},
   "outputs": [
    {
     "data": {
      "text/html": [
       "<p>sunpy.net.Fido</p>\n",
       "<p>\n",
       "Fido is a unified data search and retrieval tool.\n",
       "\n",
       "It provides simultaneous access to a variety of online data sources, some\n",
       "cover multiple instruments and data products like the Virtual Solar\n",
       "Observatory and some are specific to a single source.\n",
       "\n",
       "For details of using `~sunpy.net.Fido` see :ref:`sunpy-tutorial-acquiring-data-index`.\n",
       "\n",
       "</p>\n",
       "<table id=\"table4893834464\">\n",
       "<thead><tr><th>Client</th><th>Description</th></tr></thead>\n",
       "<tr><td>CDAWEBClient</td><td>Provides access to query and download from the Coordinated Data Analysis Web (CDAWeb).</td></tr>\n",
       "<tr><td>ADAPTClient</td><td>Provides access to the ADvanced Adaptive Prediction Technique (ADAPT) products of the National Solar Observatory (NSO).</td></tr>\n",
       "<tr><td>AIASynopsisClient</td><td>A client for retrieving AIA &quot;synoptic&quot; data from the JSOC.</td></tr>\n",
       "<tr><td>EVEClient</td><td>Provides access to Level 0CS Extreme ultraviolet Variability Experiment (EVE) data.</td></tr>\n",
       "<tr><td>GBMClient</td><td>Provides access to data from the Gamma-Ray Burst Monitor (GBM) instrument on board the Fermi satellite.</td></tr>\n",
       "<tr><td>XRSClient</td><td>Provides access to several GOES XRS files archive.</td></tr>\n",
       "<tr><td>SUVIClient</td><td>Provides access to data from the GOES Solar Ultraviolet Imager (SUVI).</td></tr>\n",
       "<tr><td>GONGClient</td><td>Provides access to the Magnetogram products of NSO-GONG synoptic Maps.</td></tr>\n",
       "<tr><td>LYRAClient</td><td>Provides access to the LYRA/Proba2 data archive.</td></tr>\n",
       "<tr><td>NOAAIndicesClient</td><td>Provides access to the NOAA solar cycle indices.</td></tr>\n",
       "<tr><td>NOAAPredictClient</td><td>Provides access to the NOAA SWPC predicted sunspot Number and 10.7 cm radio flux values.</td></tr>\n",
       "<tr><td>SRSClient</td><td>Provides access to the NOAA SWPC solar region summary data.</td></tr>\n",
       "<tr><td>NoRHClient</td><td>Provides access to the Nobeyama RadioHeliograph (NoRH) averaged correlation time series data.</td></tr>\n",
       "<tr><td>RHESSIClient</td><td>Provides access to the RHESSI observing summary time series data.</td></tr>\n",
       "<tr><td>HEKClient</td><td>Provides access to the Heliophysics Event Knowledgebase (HEK).</td></tr>\n",
       "<tr><td>HECClient</td><td>Provides access to the HELIO webservices.</td></tr>\n",
       "<tr><td>JSOCClient</td><td>Provides access to the JSOC Data Export service.</td></tr>\n",
       "<tr><td>VSOClient</td><td>Provides access to query and download from Virtual Solar Observatory (VSO).</td></tr>\n",
       "<tr><td>PADREClient</td><td>PADRE data client for accessing spectrum data from the PADRE mission.</td></tr>\n",
       "</table>"
      ],
      "text/plain": [
       "<sunpy.net.fido_factory.UnifiedDownloaderFactory object at 0x123bc4590>\n",
       "sunpy.net.Fido\n",
       "\n",
       "Fido is a unified data search and retrieval tool.\n",
       "\n",
       "It provides simultaneous access to a variety of online data sources, some\n",
       "cover multiple instruments and data products like the Virtual Solar\n",
       "Observatory and some are specific to a single source.\n",
       "\n",
       "For details of using `~sunpy.net.Fido` see :ref:`sunpy-tutorial-acquiring-data-index`.\n",
       "\n",
       "\n",
       "      Client      ...\n",
       "----------------- ...\n",
       "CDAWEBClient      ...\n",
       "ADAPTClient       ...\n",
       "AIASynopsisClient ...\n",
       "EVEClient         ...\n",
       "GBMClient         ...\n",
       "XRSClient         ...\n",
       "SUVIClient        ...\n",
       "GONGClient        ...\n",
       "LYRAClient        ...\n",
       "NOAAIndicesClient ...\n",
       "NOAAPredictClient ...\n",
       "SRSClient         ...\n",
       "NoRHClient        ...\n",
       "RHESSIClient      ...\n",
       "HEKClient         ...\n",
       "HECClient         ...\n",
       "JSOCClient        ...\n",
       "VSOClient         ...\n",
       "PADREClient       ..."
      ]
     },
     "execution_count": 4,
     "metadata": {},
     "output_type": "execute_result"
    }
   ],
   "source": [
    "# Show Added Client to Fido\n",
    "Fido"
   ]
  },
  {
   "cell_type": "code",
   "execution_count": 5,
   "metadata": {},
   "outputs": [],
   "source": [
    "results = Fido.search(\n",
    "    a.Time(\"2025-05-01\", \"2025-05-05\") & a.Instrument.meddea & a.Level.l1\n",
    ")"
   ]
  },
  {
   "cell_type": "code",
   "execution_count": 6,
   "metadata": {},
   "outputs": [
    {
     "data": {
      "application/vnd.jupyter.widget-view+json": {
       "model_id": "59af3c48a3dc40c0931e72cc9b5540b0",
       "version_major": 2,
       "version_minor": 0
      },
      "text/plain": [
       "Files Downloaded:   0%|          | 0/2 [00:00<?, ?file/s]"
      ]
     },
     "metadata": {},
     "output_type": "display_data"
    },
    {
     "data": {
      "application/vnd.jupyter.widget-view+json": {
       "model_id": "1609d60c33db4c82b7130aa706a7ec66",
       "version_major": 2,
       "version_minor": 0
      },
      "text/plain": [
       "padre_meddea_l1_spectrum_20250504T000000_v0.1.0.fits:   0%|          | 0.00/8.26M [00:00<?, ?B/s]"
      ]
     },
     "metadata": {},
     "output_type": "display_data"
    },
    {
     "data": {
      "application/vnd.jupyter.widget-view+json": {
       "model_id": "44b0c54e01da41b9936bd9f359bd3e5e",
       "version_major": 2,
       "version_minor": 0
      },
      "text/plain": [
       "padre_meddea_l1_housekeeping_20250504T000000_v0.1.0.fits:   0%|          | 0.00/150k [00:00<?, ?B/s]"
      ]
     },
     "metadata": {},
     "output_type": "display_data"
    },
    {
     "data": {
      "text/plain": [
       "<parfive.results.Results object at 0x123d03cb0>\n",
       "['/var/folders/5l/_5r0pdg15fxg1_rkgmd3c1dm0000gn/T/tmpfx4i5fsi/padre_meddea_l1_spectrum_20250504T000000_v0.1.0.fits', '/var/folders/5l/_5r0pdg15fxg1_rkgmd3c1dm0000gn/T/tmpfx4i5fsi/padre_meddea_l1_housekeeping_20250504T000000_v0.1.0.fits']"
      ]
     },
     "execution_count": 6,
     "metadata": {},
     "output_type": "execute_result"
    }
   ],
   "source": [
    "import tempfile\n",
    "\n",
    "with tempfile.TemporaryDirectory() as temp_dir:\n",
    "    downloaded_files = Fido.fetch(results, path=temp_dir)\n",
    "downloaded_files"
   ]
  },
  {
   "cell_type": "code",
   "execution_count": null,
   "metadata": {},
   "outputs": [],
   "source": []
  }
 ],
 "metadata": {
  "kernelspec": {
   "display_name": "padre",
   "language": "python",
   "name": "python3"
  },
  "language_info": {
   "codemirror_mode": {
    "name": "ipython",
    "version": 3
   },
   "file_extension": ".py",
   "mimetype": "text/x-python",
   "name": "python",
   "nbconvert_exporter": "python",
   "pygments_lexer": "ipython3",
   "version": "3.13.5"
  }
 },
 "nbformat": 4,
 "nbformat_minor": 2
}
