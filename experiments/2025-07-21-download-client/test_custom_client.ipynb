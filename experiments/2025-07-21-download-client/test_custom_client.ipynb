{
 "cells": [
  {
   "cell_type": "code",
   "execution_count": null,
   "metadata": {},
   "outputs": [
    {
     "name": "stderr",
     "output_type": "stream",
     "text": [
      "/opt/homebrew/Caskroom/miniforge/base/envs/padre/lib/python3.10/site-packages/tqdm/auto.py:21: TqdmWarning: IProgress not found. Please update jupyter and ipywidgets. See https://ipywidgets.readthedocs.io/en/stable/user_install.html\n",
      "  from .autonotebook import tqdm as notebook_tqdm\n"
     ]
    }
   ],
   "source": [
    "import os\n",
    "\n",
    "os.environ[\"SWXSOC_MISSION\"] = \"padre\"\n",
    "\n",
    "import urllib\n",
    "from collections import OrderedDict\n",
    "from datetime import datetime, timedelta\n",
    "from html.parser import HTMLParser\n",
    "from pprint import pprint\n",
    "from urllib.parse import urljoin\n",
    "\n",
    "import swxsoc\n",
    "from astropy.time import Time\n",
    "from padre_meddea.util.util import parse_science_filename\n",
    "from sunpy.extern.parse import parse\n",
    "from sunpy.net import Fido\n",
    "from sunpy.net import attrs as a\n",
    "from sunpy.net.attr import SimpleAttr\n",
    "from sunpy.net.dataretriever import GenericClient, QueryResponse"
   ]
  },
  {
   "cell_type": "code",
   "execution_count": 2,
   "metadata": {},
   "outputs": [
    {
     "data": {
      "text/plain": [
       "'0.2.2'"
      ]
     },
     "execution_count": 2,
     "metadata": {},
     "output_type": "execute_result"
    }
   ],
   "source": [
    "swxsoc.__version__"
   ]
  },
  {
   "cell_type": "code",
   "execution_count": 3,
   "metadata": {},
   "outputs": [
    {
     "data": {
      "text/plain": [
       "'6.0.6'"
      ]
     },
     "execution_count": 3,
     "metadata": {},
     "output_type": "execute_result"
    }
   ],
   "source": [
    "import sunpy\n",
    "\n",
    "sunpy.__version__"
   ]
  },
  {
   "cell_type": "code",
   "execution_count": 4,
   "metadata": {},
   "outputs": [],
   "source": [
    "from typing import List\n",
    "\n",
    "\n",
    "class DataType(SimpleAttr):\n",
    "    \"\"\"\n",
    "    Attribute for specifying the data type for the search.\n",
    "\n",
    "    Attributes\n",
    "    ----------\n",
    "    value : str\n",
    "        The data type value.\n",
    "    \"\"\"\n",
    "\n",
    "\n",
    "class PADREClient(GenericClient):\n",
    "    \"\"\"\n",
    "    Data source for searching and fetching from HTTP file servers.\n",
    "    \"\"\"\n",
    "\n",
    "    baseurl = \"https://umbra.nascom.nasa.gov/\"\n",
    "\n",
    "    @classmethod\n",
    "    def register_values(cls):\n",
    "        adict = {\n",
    "            a.Provider: [(\"sdac\", \"The Solar Data Analysis Center.\")],\n",
    "            a.Source: [\n",
    "                (\"padre\", \"(The Solar Polarization and Directivity X-Ray Experiment)\")\n",
    "            ],\n",
    "            a.Instrument: [\n",
    "                (\n",
    "                    \"meddea\",\n",
    "                    \"Measuring Directivity to Determine Electron Anisotropy (MeDDEA)\",\n",
    "                ),\n",
    "            ],\n",
    "            DataType: [\n",
    "                (\"spectrum\", \"Spectrum data from MeDDEA.\"),\n",
    "                (\"photon\", \"Photon data from MeDDEA.\"),\n",
    "                (\"housekeeping\", \"Housekeeping data from MeDDEA.\"),\n",
    "            ],\n",
    "            a.Level: [\n",
    "                (\"raw\", \"Raw Binary CCSDS Packet data\"),\n",
    "                (\"l0\", \"Raw data, converted to FITS, not in physical units.\"),\n",
    "                (\"l1\", \"Processed data, not in physical units.\"),\n",
    "            ],\n",
    "        }\n",
    "        return adict\n",
    "\n",
    "    def search(self, *args, **kwargs) -> QueryResponse:\n",
    "        \"\"\"\n",
    "        Query this client for a list of results.\n",
    "\n",
    "        Parameters\n",
    "        ----------\n",
    "        \\\\*args: `tuple`\n",
    "            `sunpy.net.attrs` objects representing the query.\n",
    "        \\\\*\\\\*kwargs: `dict`\n",
    "             Any extra keywords to refine the search.\n",
    "\n",
    "        Returns\n",
    "        -------\n",
    "        A `QueryResponse` instance containing the query result.\n",
    "        \"\"\"\n",
    "        matchdict = self._get_match_dict(*args, **kwargs)\n",
    "        # Extract matchdict parameters\n",
    "        instruments = matchdict.get(\"Instrument\")\n",
    "        levels = matchdict.get(\"Level\")\n",
    "        data_types = matchdict.get(\"DataType\")\n",
    "        start_time = matchdict.get(\"Start Time\")\n",
    "        end_time = matchdict.get(\"End Time\")\n",
    "\n",
    "        # Get search paths with data_type\n",
    "        search_paths = self._get_search_paths(\n",
    "            instruments, levels, data_types, start_time, end_time\n",
    "        )\n",
    "        swxsoc.log.debug(f\"Search paths: {search_paths}\")\n",
    "\n",
    "        # Search each path\n",
    "        all_files = []\n",
    "        for path in search_paths:\n",
    "            url = urljoin(self.baseurl, path)\n",
    "            swxsoc.log.debug(f\"Searching HTTP directory: {url}\")\n",
    "            files = self._crawl_directory(url)\n",
    "            all_files.extend(files)\n",
    "\n",
    "        # Template Replacement for DataType\n",
    "        shortname_to_datatype = {\n",
    "            \"A0\": \"photon\",\n",
    "            \"A2\": \"spectrum\",\n",
    "            \"U8\": \"housekeeping\",\n",
    "        }\n",
    "\n",
    "        # Process and return results\n",
    "        metalist = []\n",
    "        for file_url in all_files:\n",
    "            swxsoc.log.debug(f\"Processing file URL: {file_url}\")\n",
    "            info = parse_science_filename(file_url)\n",
    "\n",
    "            # Fix the DataType Information from the Raw file and filter Raw Files with wrong DataType\n",
    "            if info.get(\"level\") == \"raw\":\n",
    "                for shortname, longname in shortname_to_datatype.items():\n",
    "                    if shortname in file_url:\n",
    "                        info[\"descriptor\"] = longname\n",
    "                if info[\"descriptor\"] not in data_types:\n",
    "                    continue  # Skip files with wrong DataType\n",
    "\n",
    "            rowdict = OrderedDict()\n",
    "            rowdict[\"Instrument\"] = info.get(\"instrument\", \"unknown\")\n",
    "            rowdict[\"Mode\"] = info.get(\"mode\", \"unknown\")\n",
    "            rowdict[\"Test\"] = info.get(\"test\", False)\n",
    "            rowdict[\"Time\"] = info.get(\"time\", \"unknown\")\n",
    "            rowdict[\"Level\"] = info.get(\"level\", \"unknown\")\n",
    "            rowdict[\"Version\"] = info.get(\"version\", \"unknown\")\n",
    "            rowdict[\"Descriptor\"] = info.get(\"descriptor\", \"unknown\")\n",
    "            rowdict[\"url\"] = file_url  # Key\n",
    "            metalist.append(rowdict)\n",
    "\n",
    "        # pprint(f\"Final metalist: {metalist}\")\n",
    "        return QueryResponse(metalist, client=self)\n",
    "\n",
    "    def _get_search_paths(\n",
    "        self,\n",
    "        instruments: List[str] = None,\n",
    "        levels: List[str] = None,\n",
    "        data_types: List[str] = None,\n",
    "        start_time: Time = None,\n",
    "        end_time: Time = None,\n",
    "    ):\n",
    "        \"\"\"Generate HTTP paths to search based on query parameters.\"\"\"\n",
    "        paths = []\n",
    "\n",
    "        # Mission Name\n",
    "        mission = \"padre\"\n",
    "\n",
    "        time_paths = self._generate_time_paths(start_time, end_time)\n",
    "        # Combine all path components\n",
    "        for instrument in instruments:\n",
    "            for level in levels:\n",
    "                if level == \"raw\":\n",
    "                    for time_path in time_paths:\n",
    "                        # For raw data, do not include data type in the path\n",
    "                        paths.append(\n",
    "                            f\"{mission}/{mission}-{instrument}/{level}/{time_path}/\"\n",
    "                        )\n",
    "                else:\n",
    "                    # For other levels, include data type in the path\n",
    "                    for data_type in data_types:\n",
    "                        for time_path in time_paths:\n",
    "                            # For other levels, include data type in the path\n",
    "                            paths.append(\n",
    "                                f\"{mission}/{mission}-{instrument}/{level}/{data_type}/{time_path}/\"\n",
    "                            )\n",
    "        return paths\n",
    "\n",
    "    def _generate_time_paths(self, start_time: Time, end_time: Time):\n",
    "        \"\"\"\n",
    "        Generate all year/month/day path components between start_time and end_time.\n",
    "\n",
    "        Parameters\n",
    "        ----------\n",
    "        start_time : astropy.time.Time\n",
    "            Start time in ISO format (e.g., '2025-05-04')\n",
    "        end_time : astropy.time.Time\n",
    "            End time in ISO format (e.g., '2025-07-07')\n",
    "\n",
    "        Returns\n",
    "        -------\n",
    "        list\n",
    "            List of path strings in format 'YYYY/MM/DD'\n",
    "        \"\"\"\n",
    "        # Parse the ISO format times\n",
    "        start_date = start_time.datetime\n",
    "        end_date = end_time.datetime\n",
    "\n",
    "        # Initialize empty list for paths\n",
    "        time_paths = []\n",
    "\n",
    "        # Iterate through each day in the range\n",
    "        current_date = start_date\n",
    "        while current_date <= end_date:\n",
    "            # Format as YYYY/MM/DD\n",
    "            path = (\n",
    "                f\"{current_date.year}/{current_date.month:02d}/{current_date.day:02d}\"\n",
    "            )\n",
    "            time_paths.append(path)\n",
    "\n",
    "            # Move to next day\n",
    "            current_date += timedelta(days=1)\n",
    "\n",
    "        swxsoc.log.debug(\n",
    "            f\"Generated {len(time_paths)} time paths from {start_time} to {end_time}\"\n",
    "        )\n",
    "        return time_paths\n",
    "\n",
    "    def _crawl_directory(self, url):\n",
    "        \"\"\"Directory crawler using only standard library.\"\"\"\n",
    "\n",
    "        class LinkParser(HTMLParser):\n",
    "            def __init__(self):\n",
    "                super().__init__()\n",
    "                self.links = []\n",
    "\n",
    "            def handle_starttag(self, tag, attrs):\n",
    "                if tag == \"a\":\n",
    "                    for attr, value in attrs:\n",
    "                        if attr == \"href\":\n",
    "                            self.links.append(value)\n",
    "\n",
    "        files = []\n",
    "        try:\n",
    "            with urllib.request.urlopen(url) as response:\n",
    "                html = response.read().decode(\"utf-8\")\n",
    "\n",
    "            parser = LinkParser()\n",
    "            parser.feed(html)\n",
    "\n",
    "            for href in parser.links:\n",
    "                # Skip parent directory links and query parameters\n",
    "                if not href or href.startswith(\"?\") or href == \"../\":\n",
    "                    continue\n",
    "\n",
    "                full_url = urljoin(url, href)\n",
    "\n",
    "                # Don't crawl up: make sure we're still below our starting point\n",
    "                if not full_url.startswith(self.baseurl) or len(full_url) < len(\n",
    "                    self.baseurl\n",
    "                ):\n",
    "                    continue\n",
    "\n",
    "                elif href.lower().endswith(\".fits\") or href.lower().endswith(\".dat\"):\n",
    "                    files.append(full_url)\n",
    "\n",
    "            return files\n",
    "        except Exception as e:\n",
    "            swxsoc.log.debug(f\"Error processing {url}: {e}\")\n",
    "            return []"
   ]
  },
  {
   "cell_type": "code",
   "execution_count": 5,
   "metadata": {},
   "outputs": [
    {
     "data": {
      "text/html": [
       "<p>sunpy.net.Fido</p>\n",
       "<p>\n",
       "Fido is a unified data search and retrieval tool.\n",
       "\n",
       "It provides simultaneous access to a variety of online data sources, some\n",
       "cover multiple instruments and data products like the Virtual Solar\n",
       "Observatory and some are specific to a single source.\n",
       "\n",
       "For details of using `~sunpy.net.Fido` see :ref:`sunpy-tutorial-acquiring-data-index`.\n",
       "\n",
       "</p>\n",
       "<table id=\"table4660848640\">\n",
       "<thead><tr><th>Client</th><th>Description</th></tr></thead>\n",
       "<tr><td>CDAWEBClient</td><td>Provides access to query and download from the Coordinated Data Analysis Web (CDAWeb).</td></tr>\n",
       "<tr><td>ADAPTClient</td><td>Provides access to the ADvanced Adaptive Prediction Technique (ADAPT) products of the National Solar Observatory (NSO).</td></tr>\n",
       "<tr><td>EVEClient</td><td>Provides access to Level 0CS Extreme ultraviolet Variability Experiment (EVE) data.</td></tr>\n",
       "<tr><td>GBMClient</td><td>Provides access to data from the Gamma-Ray Burst Monitor (GBM) instrument on board the Fermi satellite.</td></tr>\n",
       "<tr><td>XRSClient</td><td>Provides access to several GOES XRS files archive.</td></tr>\n",
       "<tr><td>SUVIClient</td><td>Provides access to data from the GOES Solar Ultraviolet Imager (SUVI).</td></tr>\n",
       "<tr><td>GONGClient</td><td>Provides access to the Magnetogram products of NSO-GONG synoptic Maps.</td></tr>\n",
       "<tr><td>LYRAClient</td><td>Provides access to the LYRA/Proba2 data archive.</td></tr>\n",
       "<tr><td>NOAAIndicesClient</td><td>Provides access to the NOAA solar cycle indices.</td></tr>\n",
       "<tr><td>NOAAPredictClient</td><td>Provides access to the NOAA SWPC predicted sunspot Number and 10.7 cm radio flux values.</td></tr>\n",
       "<tr><td>SRSClient</td><td>Provides access to the NOAA SWPC solar region summary data.</td></tr>\n",
       "<tr><td>NoRHClient</td><td>Provides access to the Nobeyama RadioHeliograph (NoRH) averaged correlation time series data.</td></tr>\n",
       "<tr><td>RHESSIClient</td><td>Provides access to the RHESSI observing summary time series data.</td></tr>\n",
       "<tr><td>HEKClient</td><td>Provides access to the Heliophysics Event Knowledgebase (HEK).</td></tr>\n",
       "<tr><td>HECClient</td><td>Provides access to the HELIO webservices.</td></tr>\n",
       "<tr><td>JSOCClient</td><td>Provides access to the JSOC Data Export service.</td></tr>\n",
       "<tr><td>VSOClient</td><td>Provides access to query and download from Virtual Solar Observatory (VSO).</td></tr>\n",
       "<tr><td>SWXSOCClient</td><td>Client for interacting with SWXSOC data. This client provides search and fetch functionality for SWXSOC data and is based on the sunpy BaseClient for FIDO.</td></tr>\n",
       "<tr><td>PADREClient</td><td>Data source for searching and fetching from HTTP file servers.</td></tr>\n",
       "</table>"
      ],
      "text/plain": [
       "<sunpy.net.fido_factory.UnifiedDownloaderFactory object at 0x115ccc700>\n",
       "sunpy.net.Fido\n",
       "\n",
       "Fido is a unified data search and retrieval tool.\n",
       "\n",
       "It provides simultaneous access to a variety of online data sources, some\n",
       "cover multiple instruments and data products like the Virtual Solar\n",
       "Observatory and some are specific to a single source.\n",
       "\n",
       "For details of using `~sunpy.net.Fido` see :ref:`sunpy-tutorial-acquiring-data-index`.\n",
       "\n",
       "\n",
       "      Client      ...\n",
       "----------------- ...\n",
       "CDAWEBClient      ...\n",
       "ADAPTClient       ...\n",
       "EVEClient         ...\n",
       "GBMClient         ...\n",
       "XRSClient         ...\n",
       "SUVIClient        ...\n",
       "GONGClient        ...\n",
       "LYRAClient        ...\n",
       "NOAAIndicesClient ...\n",
       "NOAAPredictClient ...\n",
       "SRSClient         ...\n",
       "NoRHClient        ...\n",
       "RHESSIClient      ...\n",
       "HEKClient         ...\n",
       "HECClient         ...\n",
       "JSOCClient        ...\n",
       "VSOClient         ...\n",
       "SWXSOCClient      ...\n",
       "PADREClient       ..."
      ]
     },
     "execution_count": 5,
     "metadata": {},
     "output_type": "execute_result"
    }
   ],
   "source": [
    "Fido"
   ]
  },
  {
   "cell_type": "markdown",
   "metadata": {},
   "source": [
    "## Test Getting Raw, Level 0, and Level 1 Data All Together"
   ]
  },
  {
   "cell_type": "code",
   "execution_count": 6,
   "metadata": {},
   "outputs": [
    {
     "data": {
      "text/html": [
       "Results from 1 Provider:</br></br>17 Results from the PADREClient:</br><div><i>QueryResponse length=17</i>\n",
       "<table id=\"table4660845328\" class=\"table-striped table-bordered table-condensed\">\n",
       "<thead><tr><th>Instrument</th><th>Mode</th><th>Test</th><th>Time</th><th>Level</th><th>Version</th><th>Descriptor</th></tr></thead>\n",
       "<thead><tr><th>str6</th><th>object</th><th>bool</th><th>Time</th><th>str3</th><th>object</th><th>str8</th></tr></thead>\n",
       "<tr><td>meddea</td><td>None</td><td>False</td><td>2025-05-04 07:04:26</td><td>raw</td><td>None</td><td>spectrum</td></tr>\n",
       "<tr><td>meddea</td><td>None</td><td>False</td><td>2025-05-04 08:15:36</td><td>raw</td><td>None</td><td>spectrum</td></tr>\n",
       "<tr><td>meddea</td><td>None</td><td>False</td><td>2025-05-04 10:38:26</td><td>raw</td><td>None</td><td>spectrum</td></tr>\n",
       "<tr><td>meddea</td><td>None</td><td>False</td><td>2025-05-04 11:49:36</td><td>raw</td><td>None</td><td>spectrum</td></tr>\n",
       "<tr><td>meddea</td><td>None</td><td>False</td><td>2025-05-04 13:00:56</td><td>raw</td><td>None</td><td>spectrum</td></tr>\n",
       "<tr><td>meddea</td><td>None</td><td>False</td><td>2025-05-04 14:12:26</td><td>raw</td><td>None</td><td>spectrum</td></tr>\n",
       "<tr><td>meddea</td><td>None</td><td>False</td><td>2025-05-04 15:23:46</td><td>raw</td><td>None</td><td>spectrum</td></tr>\n",
       "<tr><td>meddea</td><td>None</td><td>False</td><td>2025-05-04 15:31:20</td><td>raw</td><td>None</td><td>spectrum</td></tr>\n",
       "<tr><td>meddea</td><td>None</td><td>True</td><td>2025-05-04 07:04:11</td><td>l0</td><td>0.1.0</td><td>spectrum</td></tr>\n",
       "<tr><td>meddea</td><td>None</td><td>True</td><td>2025-05-04 08:15:21</td><td>l0</td><td>0.1.0</td><td>spectrum</td></tr>\n",
       "<tr><td>meddea</td><td>None</td><td>True</td><td>2025-05-04 10:38:11</td><td>l0</td><td>0.1.0</td><td>spectrum</td></tr>\n",
       "<tr><td>meddea</td><td>None</td><td>True</td><td>2025-05-04 11:49:21</td><td>l0</td><td>0.1.0</td><td>spectrum</td></tr>\n",
       "<tr><td>meddea</td><td>None</td><td>True</td><td>2025-05-04 13:00:41</td><td>l0</td><td>0.1.0</td><td>spectrum</td></tr>\n",
       "<tr><td>meddea</td><td>None</td><td>True</td><td>2025-05-04 14:12:11</td><td>l0</td><td>0.1.0</td><td>spectrum</td></tr>\n",
       "<tr><td>meddea</td><td>None</td><td>True</td><td>2025-05-04 15:23:31</td><td>l0</td><td>0.1.0</td><td>spectrum</td></tr>\n",
       "<tr><td>meddea</td><td>None</td><td>True</td><td>2025-05-04 15:31:11</td><td>l0</td><td>0.1.0</td><td>spectrum</td></tr>\n",
       "<tr><td>meddea</td><td>None</td><td>False</td><td>2025-05-04 00:00:00</td><td>l1</td><td>0.1.0</td><td>spectrum</td></tr>\n",
       "</table></div></br>"
      ],
      "text/plain": [
       "<sunpy.net.fido_factory.UnifiedResponse object at 0x115cefd60>\n",
       "Results from 1 Provider:\n",
       "\n",
       "17 Results from the PADREClient:\n",
       "\n",
       "Instrument Mode  Test         Time        Level Version Descriptor\n",
       "---------- ---- ----- ------------------- ----- ------- ----------\n",
       "    meddea None False 2025-05-04 07:04:26   raw    None   spectrum\n",
       "    meddea None False 2025-05-04 08:15:36   raw    None   spectrum\n",
       "    meddea None False 2025-05-04 10:38:26   raw    None   spectrum\n",
       "    meddea None False 2025-05-04 11:49:36   raw    None   spectrum\n",
       "    meddea None False 2025-05-04 13:00:56   raw    None   spectrum\n",
       "    meddea None False 2025-05-04 14:12:26   raw    None   spectrum\n",
       "    meddea None False 2025-05-04 15:23:46   raw    None   spectrum\n",
       "    meddea None False 2025-05-04 15:31:20   raw    None   spectrum\n",
       "    meddea None  True 2025-05-04 07:04:11    l0   0.1.0   spectrum\n",
       "    meddea None  True 2025-05-04 08:15:21    l0   0.1.0   spectrum\n",
       "    meddea None  True 2025-05-04 10:38:11    l0   0.1.0   spectrum\n",
       "    meddea None  True 2025-05-04 11:49:21    l0   0.1.0   spectrum\n",
       "    meddea None  True 2025-05-04 13:00:41    l0   0.1.0   spectrum\n",
       "    meddea None  True 2025-05-04 14:12:11    l0   0.1.0   spectrum\n",
       "    meddea None  True 2025-05-04 15:23:31    l0   0.1.0   spectrum\n",
       "    meddea None  True 2025-05-04 15:31:11    l0   0.1.0   spectrum\n",
       "    meddea None False 2025-05-04 00:00:00    l1   0.1.0   spectrum\n"
      ]
     },
     "execution_count": 6,
     "metadata": {},
     "output_type": "execute_result"
    }
   ],
   "source": [
    "results = Fido.search(\n",
    "    a.Time(\"2025-05-01\", \"2025-05-05\") & a.Instrument.meddea & DataType.spectrum\n",
    ")\n",
    "results"
   ]
  },
  {
   "cell_type": "markdown",
   "metadata": {},
   "source": [
    "## Test Getting All Level 1 Data Across All Data Types"
   ]
  },
  {
   "cell_type": "code",
   "execution_count": 7,
   "metadata": {},
   "outputs": [
    {
     "data": {
      "text/html": [
       "Results from 1 Provider:</br></br>2 Results from the PADREClient:</br><div><i>QueryResponse length=2</i>\n",
       "<table id=\"table4668849984\" class=\"table-striped table-bordered table-condensed\">\n",
       "<thead><tr><th>Instrument</th><th>Mode</th><th>Test</th><th>Time</th><th>Level</th><th>Version</th><th>Descriptor</th></tr></thead>\n",
       "<thead><tr><th>str6</th><th>object</th><th>bool</th><th>Time</th><th>str2</th><th>str5</th><th>str12</th></tr></thead>\n",
       "<tr><td>meddea</td><td>None</td><td>False</td><td>2025-05-04T00:00:00.000</td><td>l1</td><td>0.1.0</td><td>spectrum</td></tr>\n",
       "<tr><td>meddea</td><td>None</td><td>False</td><td>2025-05-04T00:00:00.000</td><td>l1</td><td>0.1.0</td><td>housekeeping</td></tr>\n",
       "</table></div></br>"
      ],
      "text/plain": [
       "<sunpy.net.fido_factory.UnifiedResponse object at 0x115ced630>\n",
       "Results from 1 Provider:\n",
       "\n",
       "2 Results from the PADREClient:\n",
       "\n",
       "Instrument Mode  Test           Time          Level Version  Descriptor \n",
       "---------- ---- ----- ----------------------- ----- ------- ------------\n",
       "    meddea None False 2025-05-04T00:00:00.000    l1   0.1.0     spectrum\n",
       "    meddea None False 2025-05-04T00:00:00.000    l1   0.1.0 housekeeping\n"
      ]
     },
     "execution_count": 7,
     "metadata": {},
     "output_type": "execute_result"
    }
   ],
   "source": [
    "results = Fido.search(\n",
    "    a.Time(\"2025-05-01\", \"2025-05-05\") & a.Instrument.meddea & a.Level.l1\n",
    ")\n",
    "results"
   ]
  },
  {
   "cell_type": "markdown",
   "metadata": {},
   "source": [
    "## Test Getting L1 Photon Data (Does not exist yet)"
   ]
  },
  {
   "cell_type": "code",
   "execution_count": 8,
   "metadata": {},
   "outputs": [
    {
     "data": {
      "text/html": [
       "Results from 1 Provider:</br></br>0 Results from the PADREClient:</br><div><i>QueryResponse length=0</i>\n",
       "<No columns></div></br>"
      ],
      "text/plain": [
       "<sunpy.net.fido_factory.UnifiedResponse object at 0x115ceec80>\n",
       "Results from 1 Provider:\n",
       "\n",
       "0 Results from the PADREClient:\n",
       "\n",
       "<No columns>\n"
      ]
     },
     "execution_count": 8,
     "metadata": {},
     "output_type": "execute_result"
    }
   ],
   "source": [
    "results = Fido.search(\n",
    "    a.Time(\"2025-05-01\", \"2025-05-05\")\n",
    "    & a.Instrument.meddea\n",
    "    & a.Level.l1\n",
    "    & DataType.photon\n",
    ")\n",
    "results"
   ]
  },
  {
   "cell_type": "markdown",
   "metadata": {},
   "source": [
    "## Test Getting all RAW Data"
   ]
  },
  {
   "cell_type": "code",
   "execution_count": 9,
   "metadata": {},
   "outputs": [
    {
     "data": {
      "text/html": [
       "Results from 1 Provider:</br></br>36 Results from the PADREClient:</br><div><i>QueryResponse length=36</i>\n",
       "<table id=\"table4668085952\" class=\"table-striped table-bordered table-condensed\">\n",
       "<thead><tr><th>Instrument</th><th>Mode</th><th>Test</th><th>Time</th><th>Level</th><th>Version</th><th>Descriptor</th></tr></thead>\n",
       "<thead><tr><th>str6</th><th>object</th><th>bool</th><th>Time</th><th>str3</th><th>object</th><th>str12</th></tr></thead>\n",
       "<tr><td>meddea</td><td>None</td><td>False</td><td>2025-05-04 05:51:33</td><td>raw</td><td>None</td><td>photon</td></tr>\n",
       "<tr><td>meddea</td><td>None</td><td>False</td><td>2025-05-04 07:37:54</td><td>raw</td><td>None</td><td>photon</td></tr>\n",
       "<tr><td>meddea</td><td>None</td><td>False</td><td>2025-05-04 08:03:35</td><td>raw</td><td>None</td><td>photon</td></tr>\n",
       "<tr><td>meddea</td><td>None</td><td>False</td><td>2025-05-04 08:18:36</td><td>raw</td><td>None</td><td>photon</td></tr>\n",
       "<tr><td>meddea</td><td>None</td><td>False</td><td>2025-05-04 08:32:39</td><td>raw</td><td>None</td><td>photon</td></tr>\n",
       "<tr><td>meddea</td><td>None</td><td>False</td><td>2025-05-04 08:46:10</td><td>raw</td><td>None</td><td>photon</td></tr>\n",
       "<tr><td>meddea</td><td>None</td><td>False</td><td>2025-05-04 08:59:36</td><td>raw</td><td>None</td><td>photon</td></tr>\n",
       "<tr><td>meddea</td><td>None</td><td>False</td><td>2025-05-04 09:39:11</td><td>raw</td><td>None</td><td>photon</td></tr>\n",
       "<tr><td>meddea</td><td>None</td><td>False</td><td>2025-05-04 09:51:22</td><td>raw</td><td>None</td><td>photon</td></tr>\n",
       "<tr><td>...</td><td>...</td><td>...</td><td>...</td><td>...</td><td>...</td><td>...</td></tr>\n",
       "<tr><td>meddea</td><td>None</td><td>False</td><td>2025-05-04 07:04:26</td><td>raw</td><td>None</td><td>spectrum</td></tr>\n",
       "<tr><td>meddea</td><td>None</td><td>False</td><td>2025-05-04 08:15:36</td><td>raw</td><td>None</td><td>spectrum</td></tr>\n",
       "<tr><td>meddea</td><td>None</td><td>False</td><td>2025-05-04 10:38:26</td><td>raw</td><td>None</td><td>spectrum</td></tr>\n",
       "<tr><td>meddea</td><td>None</td><td>False</td><td>2025-05-04 11:49:36</td><td>raw</td><td>None</td><td>spectrum</td></tr>\n",
       "<tr><td>meddea</td><td>None</td><td>False</td><td>2025-05-04 13:00:56</td><td>raw</td><td>None</td><td>spectrum</td></tr>\n",
       "<tr><td>meddea</td><td>None</td><td>False</td><td>2025-05-04 14:12:26</td><td>raw</td><td>None</td><td>spectrum</td></tr>\n",
       "<tr><td>meddea</td><td>None</td><td>False</td><td>2025-05-04 15:23:46</td><td>raw</td><td>None</td><td>spectrum</td></tr>\n",
       "<tr><td>meddea</td><td>None</td><td>False</td><td>2025-05-04 15:31:20</td><td>raw</td><td>None</td><td>spectrum</td></tr>\n",
       "<tr><td>meddea</td><td>None</td><td>False</td><td>2025-05-04 05:51:34</td><td>raw</td><td>None</td><td>housekeeping</td></tr>\n",
       "<tr><td>meddea</td><td>None</td><td>False</td><td>2025-05-04 15:31:21</td><td>raw</td><td>None</td><td>housekeeping</td></tr>\n",
       "</table></div></br>"
      ],
      "text/plain": [
       "<sunpy.net.fido_factory.UnifiedResponse object at 0x117a22470>\n",
       "Results from 1 Provider:\n",
       "\n",
       "36 Results from the PADREClient:\n",
       "\n",
       "Instrument Mode  Test         Time        Level Version  Descriptor \n",
       "---------- ---- ----- ------------------- ----- ------- ------------\n",
       "    meddea None False 2025-05-04 05:51:33   raw    None       photon\n",
       "    meddea None False 2025-05-04 07:37:54   raw    None       photon\n",
       "    meddea None False 2025-05-04 08:03:35   raw    None       photon\n",
       "    meddea None False 2025-05-04 08:18:36   raw    None       photon\n",
       "    meddea None False 2025-05-04 08:32:39   raw    None       photon\n",
       "    meddea None False 2025-05-04 08:46:10   raw    None       photon\n",
       "    meddea None False 2025-05-04 08:59:36   raw    None       photon\n",
       "    meddea None False 2025-05-04 09:39:11   raw    None       photon\n",
       "    meddea None False 2025-05-04 09:51:22   raw    None       photon\n",
       "    meddea None False 2025-05-04 10:03:54   raw    None       photon\n",
       "       ...  ...   ...                 ...   ...     ...          ...\n",
       "    meddea None False 2025-05-04 07:04:26   raw    None     spectrum\n",
       "    meddea None False 2025-05-04 08:15:36   raw    None     spectrum\n",
       "    meddea None False 2025-05-04 10:38:26   raw    None     spectrum\n",
       "    meddea None False 2025-05-04 11:49:36   raw    None     spectrum\n",
       "    meddea None False 2025-05-04 13:00:56   raw    None     spectrum\n",
       "    meddea None False 2025-05-04 14:12:26   raw    None     spectrum\n",
       "    meddea None False 2025-05-04 15:23:46   raw    None     spectrum\n",
       "    meddea None False 2025-05-04 15:31:20   raw    None     spectrum\n",
       "    meddea None False 2025-05-04 05:51:34   raw    None housekeeping\n",
       "    meddea None False 2025-05-04 15:31:21   raw    None housekeeping\n",
       "Length = 36 rows\n"
      ]
     },
     "execution_count": 9,
     "metadata": {},
     "output_type": "execute_result"
    }
   ],
   "source": [
    "results = Fido.search(\n",
    "    a.Time(\"2025-05-01\", \"2025-05-05\") & a.Instrument.meddea & a.Level.raw\n",
    ")\n",
    "results"
   ]
  },
  {
   "cell_type": "markdown",
   "metadata": {},
   "source": [
    "## Test Getting all RAW Housekeeping Data"
   ]
  },
  {
   "cell_type": "code",
   "execution_count": 10,
   "metadata": {},
   "outputs": [
    {
     "data": {
      "text/html": [
       "Results from 1 Provider:</br></br>2 Results from the PADREClient:</br><div><i>QueryResponse length=2</i>\n",
       "<table id=\"table4668084272\" class=\"table-striped table-bordered table-condensed\">\n",
       "<thead><tr><th>Instrument</th><th>Mode</th><th>Test</th><th>Time</th><th>Level</th><th>Version</th><th>Descriptor</th></tr></thead>\n",
       "<thead><tr><th>str6</th><th>object</th><th>bool</th><th>Time</th><th>str3</th><th>object</th><th>str12</th></tr></thead>\n",
       "<tr><td>meddea</td><td>None</td><td>False</td><td>2025-05-04 05:51:34</td><td>raw</td><td>None</td><td>housekeeping</td></tr>\n",
       "<tr><td>meddea</td><td>None</td><td>False</td><td>2025-05-04 15:31:21</td><td>raw</td><td>None</td><td>housekeeping</td></tr>\n",
       "</table></div></br>"
      ],
      "text/plain": [
       "<sunpy.net.fido_factory.UnifiedResponse object at 0x1163d5db0>\n",
       "Results from 1 Provider:\n",
       "\n",
       "2 Results from the PADREClient:\n",
       "\n",
       "Instrument Mode  Test         Time        Level Version  Descriptor \n",
       "---------- ---- ----- ------------------- ----- ------- ------------\n",
       "    meddea None False 2025-05-04 05:51:34   raw    None housekeeping\n",
       "    meddea None False 2025-05-04 15:31:21   raw    None housekeeping\n"
      ]
     },
     "execution_count": 10,
     "metadata": {},
     "output_type": "execute_result"
    }
   ],
   "source": [
    "results = Fido.search(\n",
    "    a.Time(\"2025-05-01\", \"2025-05-05\")\n",
    "    & a.Instrument.meddea\n",
    "    & a.Level.raw\n",
    "    & DataType.housekeeping\n",
    ")\n",
    "results"
   ]
  },
  {
   "cell_type": "code",
   "execution_count": 11,
   "metadata": {},
   "outputs": [
    {
     "name": "stderr",
     "output_type": "stream",
     "text": [
      "Files Downloaded:   0%|          | 0/2 [00:00<?, ?file/s]\n",
      "\u001b[A\n",
      "Files Downloaded: 100%|██████████| 2/2 [00:00<00:00,  7.44file/s]\n"
     ]
    },
    {
     "data": {
      "text/plain": [
       "<parfive.results.Results object at 0x1163d5030>\n",
       "['/var/folders/5l/_5r0pdg15fxg1_rkgmd3c1dm0000gn/T/tmph24n2_d7/PADREMDU8_250504055134.DAT', '/var/folders/5l/_5r0pdg15fxg1_rkgmd3c1dm0000gn/T/tmph24n2_d7/PADREMDU8_250504153121.DAT']"
      ]
     },
     "execution_count": 11,
     "metadata": {},
     "output_type": "execute_result"
    }
   ],
   "source": [
    "import tempfile\n",
    "\n",
    "with tempfile.TemporaryDirectory() as temp_dir:\n",
    "    downloaded_files = Fido.fetch(results, path=temp_dir)\n",
    "downloaded_files"
   ]
  }
 ],
 "metadata": {
  "kernelspec": {
   "display_name": "padre",
   "language": "python",
   "name": "python3"
  },
  "language_info": {
   "codemirror_mode": {
    "name": "ipython",
    "version": 3
   },
   "file_extension": ".py",
   "mimetype": "text/x-python",
   "name": "python",
   "nbconvert_exporter": "python",
   "pygments_lexer": "ipython3",
   "version": "3.10.18"
  }
 },
 "nbformat": 4,
 "nbformat_minor": 2
}
