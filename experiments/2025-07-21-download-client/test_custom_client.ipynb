{
 "cells": [
  {
   "cell_type": "code",
   "execution_count": 1,
   "metadata": {},
   "outputs": [
    {
     "name": "stderr",
     "output_type": "stream",
     "text": [
      "/opt/homebrew/Caskroom/miniforge/base/envs/padre/lib/python3.10/site-packages/tqdm/auto.py:21: TqdmWarning: IProgress not found. Please update jupyter and ipywidgets. See https://ipywidgets.readthedocs.io/en/stable/user_install.html\n",
      "  from .autonotebook import tqdm as notebook_tqdm\n"
     ]
    }
   ],
   "source": [
    "from sunpy.net import Fido\n",
    "from sunpy.net import attrs as a\n",
    "\n",
    "from padre_meddea.net import PADREClient, DataType"
   ]
  },
  {
   "cell_type": "code",
   "execution_count": 2,
   "metadata": {},
   "outputs": [
    {
     "data": {
      "text/plain": [
       "'6.0.6'"
      ]
     },
     "execution_count": 2,
     "metadata": {},
     "output_type": "execute_result"
    }
   ],
   "source": [
    "import sunpy\n",
    "\n",
    "sunpy.__version__"
   ]
  },
  {
   "cell_type": "code",
   "execution_count": 3,
   "metadata": {},
   "outputs": [
    {
     "data": {
      "text/html": [
       "<p>sunpy.net.Fido</p>\n",
       "<p>\n",
       "Fido is a unified data search and retrieval tool.\n",
       "\n",
       "It provides simultaneous access to a variety of online data sources, some\n",
       "cover multiple instruments and data products like the Virtual Solar\n",
       "Observatory and some are specific to a single source.\n",
       "\n",
       "For details of using `~sunpy.net.Fido` see :ref:`sunpy-tutorial-acquiring-data-index`.\n",
       "\n",
       "</p>\n",
       "<table id=\"table4984906576\">\n",
       "<thead><tr><th>Client</th><th>Description</th></tr></thead>\n",
       "<tr><td>CDAWEBClient</td><td>Provides access to query and download from the Coordinated Data Analysis Web (CDAWeb).</td></tr>\n",
       "<tr><td>ADAPTClient</td><td>Provides access to the ADvanced Adaptive Prediction Technique (ADAPT) products of the National Solar Observatory (NSO).</td></tr>\n",
       "<tr><td>EVEClient</td><td>Provides access to Level 0CS Extreme ultraviolet Variability Experiment (EVE) data.</td></tr>\n",
       "<tr><td>GBMClient</td><td>Provides access to data from the Gamma-Ray Burst Monitor (GBM) instrument on board the Fermi satellite.</td></tr>\n",
       "<tr><td>XRSClient</td><td>Provides access to several GOES XRS files archive.</td></tr>\n",
       "<tr><td>SUVIClient</td><td>Provides access to data from the GOES Solar Ultraviolet Imager (SUVI).</td></tr>\n",
       "<tr><td>GONGClient</td><td>Provides access to the Magnetogram products of NSO-GONG synoptic Maps.</td></tr>\n",
       "<tr><td>LYRAClient</td><td>Provides access to the LYRA/Proba2 data archive.</td></tr>\n",
       "<tr><td>NOAAIndicesClient</td><td>Provides access to the NOAA solar cycle indices.</td></tr>\n",
       "<tr><td>NOAAPredictClient</td><td>Provides access to the NOAA SWPC predicted sunspot Number and 10.7 cm radio flux values.</td></tr>\n",
       "<tr><td>SRSClient</td><td>Provides access to the NOAA SWPC solar region summary data.</td></tr>\n",
       "<tr><td>NoRHClient</td><td>Provides access to the Nobeyama RadioHeliograph (NoRH) averaged correlation time series data.</td></tr>\n",
       "<tr><td>RHESSIClient</td><td>Provides access to the RHESSI observing summary time series data.</td></tr>\n",
       "<tr><td>HEKClient</td><td>Provides access to the Heliophysics Event Knowledgebase (HEK).</td></tr>\n",
       "<tr><td>HECClient</td><td>Provides access to the HELIO webservices.</td></tr>\n",
       "<tr><td>JSOCClient</td><td>Provides access to the JSOC Data Export service.</td></tr>\n",
       "<tr><td>VSOClient</td><td>Provides access to query and download from Virtual Solar Observatory (VSO).</td></tr>\n",
       "<tr><td>SWXSOCClient</td><td>Client for interacting with SWXSOC data. This client provides search and fetch functionality for SWXSOC data and is based on the sunpy BaseClient for FIDO.</td></tr>\n",
       "<tr><td>PADREClient</td><td>Data source for searching and fetching PADRE MeDDEA Data from SDAC File Servers.</td></tr>\n",
       "</table>"
      ],
      "text/plain": [
       "<sunpy.net.fido_factory.UnifiedDownloaderFactory object at 0x1288d0dc0>\n",
       "sunpy.net.Fido\n",
       "\n",
       "Fido is a unified data search and retrieval tool.\n",
       "\n",
       "It provides simultaneous access to a variety of online data sources, some\n",
       "cover multiple instruments and data products like the Virtual Solar\n",
       "Observatory and some are specific to a single source.\n",
       "\n",
       "For details of using `~sunpy.net.Fido` see :ref:`sunpy-tutorial-acquiring-data-index`.\n",
       "\n",
       "\n",
       "      Client      ...\n",
       "----------------- ...\n",
       "CDAWEBClient      ...\n",
       "ADAPTClient       ...\n",
       "EVEClient         ...\n",
       "GBMClient         ...\n",
       "XRSClient         ...\n",
       "SUVIClient        ...\n",
       "GONGClient        ...\n",
       "LYRAClient        ...\n",
       "NOAAIndicesClient ...\n",
       "NOAAPredictClient ...\n",
       "SRSClient         ...\n",
       "NoRHClient        ...\n",
       "RHESSIClient      ...\n",
       "HEKClient         ...\n",
       "HECClient         ...\n",
       "JSOCClient        ...\n",
       "VSOClient         ...\n",
       "SWXSOCClient      ...\n",
       "PADREClient       ..."
      ]
     },
     "execution_count": 3,
     "metadata": {},
     "output_type": "execute_result"
    }
   ],
   "source": [
    "Fido"
   ]
  },
  {
   "cell_type": "markdown",
   "metadata": {},
   "source": [
    "## Test Getting Raw, Level 0, and Level 1 Data All Together"
   ]
  },
  {
   "cell_type": "code",
   "execution_count": 4,
   "metadata": {},
   "outputs": [
    {
     "data": {
      "text/html": [
       "Results from 1 Provider:</br></br>17 Results from the PADREClient:</br><div><i>QueryResponse length=17</i>\n",
       "<table id=\"table4984905232\" class=\"table-striped table-bordered table-condensed\">\n",
       "<thead><tr><th>Instrument</th><th>Mode</th><th>Test</th><th>Time</th><th>Level</th><th>Version</th><th>Descriptor</th></tr></thead>\n",
       "<thead><tr><th>str6</th><th>object</th><th>bool</th><th>Time</th><th>str3</th><th>object</th><th>str8</th></tr></thead>\n",
       "<tr><td>meddea</td><td>None</td><td>False</td><td>2025-05-04 07:04:26</td><td>raw</td><td>None</td><td>spectrum</td></tr>\n",
       "<tr><td>meddea</td><td>None</td><td>False</td><td>2025-05-04 08:15:36</td><td>raw</td><td>None</td><td>spectrum</td></tr>\n",
       "<tr><td>meddea</td><td>None</td><td>False</td><td>2025-05-04 10:38:26</td><td>raw</td><td>None</td><td>spectrum</td></tr>\n",
       "<tr><td>meddea</td><td>None</td><td>False</td><td>2025-05-04 11:49:36</td><td>raw</td><td>None</td><td>spectrum</td></tr>\n",
       "<tr><td>meddea</td><td>None</td><td>False</td><td>2025-05-04 13:00:56</td><td>raw</td><td>None</td><td>spectrum</td></tr>\n",
       "<tr><td>meddea</td><td>None</td><td>False</td><td>2025-05-04 14:12:26</td><td>raw</td><td>None</td><td>spectrum</td></tr>\n",
       "<tr><td>meddea</td><td>None</td><td>False</td><td>2025-05-04 15:23:46</td><td>raw</td><td>None</td><td>spectrum</td></tr>\n",
       "<tr><td>meddea</td><td>None</td><td>False</td><td>2025-05-04 15:31:20</td><td>raw</td><td>None</td><td>spectrum</td></tr>\n",
       "<tr><td>meddea</td><td>None</td><td>True</td><td>2025-05-04 07:04:11</td><td>l0</td><td>0.1.0</td><td>spectrum</td></tr>\n",
       "<tr><td>meddea</td><td>None</td><td>True</td><td>2025-05-04 08:15:21</td><td>l0</td><td>0.1.0</td><td>spectrum</td></tr>\n",
       "<tr><td>meddea</td><td>None</td><td>True</td><td>2025-05-04 10:38:11</td><td>l0</td><td>0.1.0</td><td>spectrum</td></tr>\n",
       "<tr><td>meddea</td><td>None</td><td>True</td><td>2025-05-04 11:49:21</td><td>l0</td><td>0.1.0</td><td>spectrum</td></tr>\n",
       "<tr><td>meddea</td><td>None</td><td>True</td><td>2025-05-04 13:00:41</td><td>l0</td><td>0.1.0</td><td>spectrum</td></tr>\n",
       "<tr><td>meddea</td><td>None</td><td>True</td><td>2025-05-04 14:12:11</td><td>l0</td><td>0.1.0</td><td>spectrum</td></tr>\n",
       "<tr><td>meddea</td><td>None</td><td>True</td><td>2025-05-04 15:23:31</td><td>l0</td><td>0.1.0</td><td>spectrum</td></tr>\n",
       "<tr><td>meddea</td><td>None</td><td>True</td><td>2025-05-04 15:31:11</td><td>l0</td><td>0.1.0</td><td>spectrum</td></tr>\n",
       "<tr><td>meddea</td><td>None</td><td>False</td><td>2025-05-04 00:00:00</td><td>l1</td><td>0.1.0</td><td>spectrum</td></tr>\n",
       "</table></div></br>"
      ],
      "text/plain": [
       "<sunpy.net.fido_factory.UnifiedResponse object at 0x1291fa3e0>\n",
       "Results from 1 Provider:\n",
       "\n",
       "17 Results from the PADREClient:\n",
       "\n",
       "Instrument Mode  Test         Time        Level Version Descriptor\n",
       "---------- ---- ----- ------------------- ----- ------- ----------\n",
       "    meddea None False 2025-05-04 07:04:26   raw    None   spectrum\n",
       "    meddea None False 2025-05-04 08:15:36   raw    None   spectrum\n",
       "    meddea None False 2025-05-04 10:38:26   raw    None   spectrum\n",
       "    meddea None False 2025-05-04 11:49:36   raw    None   spectrum\n",
       "    meddea None False 2025-05-04 13:00:56   raw    None   spectrum\n",
       "    meddea None False 2025-05-04 14:12:26   raw    None   spectrum\n",
       "    meddea None False 2025-05-04 15:23:46   raw    None   spectrum\n",
       "    meddea None False 2025-05-04 15:31:20   raw    None   spectrum\n",
       "    meddea None  True 2025-05-04 07:04:11    l0   0.1.0   spectrum\n",
       "    meddea None  True 2025-05-04 08:15:21    l0   0.1.0   spectrum\n",
       "    meddea None  True 2025-05-04 10:38:11    l0   0.1.0   spectrum\n",
       "    meddea None  True 2025-05-04 11:49:21    l0   0.1.0   spectrum\n",
       "    meddea None  True 2025-05-04 13:00:41    l0   0.1.0   spectrum\n",
       "    meddea None  True 2025-05-04 14:12:11    l0   0.1.0   spectrum\n",
       "    meddea None  True 2025-05-04 15:23:31    l0   0.1.0   spectrum\n",
       "    meddea None  True 2025-05-04 15:31:11    l0   0.1.0   spectrum\n",
       "    meddea None False 2025-05-04 00:00:00    l1   0.1.0   spectrum\n"
      ]
     },
     "execution_count": 4,
     "metadata": {},
     "output_type": "execute_result"
    }
   ],
   "source": [
    "results = Fido.search(\n",
    "    a.Time(\"2025-05-01\", \"2025-05-05\") & a.Instrument.meddea & DataType.spectrum\n",
    ")\n",
    "results"
   ]
  },
  {
   "cell_type": "markdown",
   "metadata": {},
   "source": [
    "## Test Getting All Level 1 Data Across All Data Types"
   ]
  },
  {
   "cell_type": "code",
   "execution_count": 5,
   "metadata": {},
   "outputs": [
    {
     "data": {
      "text/html": [
       "Results from 1 Provider:</br></br>2 Results from the PADREClient:</br><div><i>QueryResponse length=2</i>\n",
       "<table id=\"table4984751536\" class=\"table-striped table-bordered table-condensed\">\n",
       "<thead><tr><th>Instrument</th><th>Mode</th><th>Test</th><th>Time</th><th>Level</th><th>Version</th><th>Descriptor</th></tr></thead>\n",
       "<thead><tr><th>str6</th><th>object</th><th>bool</th><th>Time</th><th>str2</th><th>str5</th><th>str12</th></tr></thead>\n",
       "<tr><td>meddea</td><td>None</td><td>False</td><td>2025-05-04T00:00:00.000</td><td>l1</td><td>0.1.0</td><td>spectrum</td></tr>\n",
       "<tr><td>meddea</td><td>None</td><td>False</td><td>2025-05-04T00:00:00.000</td><td>l1</td><td>0.1.0</td><td>housekeeping</td></tr>\n",
       "</table></div></br>"
      ],
      "text/plain": [
       "<sunpy.net.fido_factory.UnifiedResponse object at 0x1291f9bd0>\n",
       "Results from 1 Provider:\n",
       "\n",
       "2 Results from the PADREClient:\n",
       "\n",
       "Instrument Mode  Test           Time          Level Version  Descriptor \n",
       "---------- ---- ----- ----------------------- ----- ------- ------------\n",
       "    meddea None False 2025-05-04T00:00:00.000    l1   0.1.0     spectrum\n",
       "    meddea None False 2025-05-04T00:00:00.000    l1   0.1.0 housekeeping\n"
      ]
     },
     "execution_count": 5,
     "metadata": {},
     "output_type": "execute_result"
    }
   ],
   "source": [
    "results = Fido.search(\n",
    "    a.Time(\"2025-05-01\", \"2025-05-05\") & a.Instrument.meddea & a.Level.l1\n",
    ")\n",
    "results"
   ]
  },
  {
   "cell_type": "markdown",
   "metadata": {},
   "source": [
    "## Test Getting L1 Photon Data (Does not exist yet)"
   ]
  },
  {
   "cell_type": "code",
   "execution_count": 6,
   "metadata": {},
   "outputs": [
    {
     "data": {
      "text/html": [
       "Results from 1 Provider:</br></br>0 Results from the PADREClient:</br><div><i>QueryResponse length=0</i>\n",
       "<No columns></div></br>"
      ],
      "text/plain": [
       "<sunpy.net.fido_factory.UnifiedResponse object at 0x1291d4eb0>\n",
       "Results from 1 Provider:\n",
       "\n",
       "0 Results from the PADREClient:\n",
       "\n",
       "<No columns>\n"
      ]
     },
     "execution_count": 6,
     "metadata": {},
     "output_type": "execute_result"
    }
   ],
   "source": [
    "results = Fido.search(\n",
    "    a.Time(\"2025-05-01\", \"2025-05-05\")\n",
    "    & a.Instrument.meddea\n",
    "    & a.Level.l1\n",
    "    & DataType.photon\n",
    ")\n",
    "results"
   ]
  },
  {
   "cell_type": "markdown",
   "metadata": {},
   "source": [
    "## Test Getting all RAW Data"
   ]
  },
  {
   "cell_type": "code",
   "execution_count": 7,
   "metadata": {},
   "outputs": [
    {
     "data": {
      "text/html": [
       "Results from 1 Provider:</br></br>36 Results from the PADREClient:</br><div><i>QueryResponse length=36</i>\n",
       "<table id=\"table4984830320\" class=\"table-striped table-bordered table-condensed\">\n",
       "<thead><tr><th>Instrument</th><th>Mode</th><th>Test</th><th>Time</th><th>Level</th><th>Version</th><th>Descriptor</th></tr></thead>\n",
       "<thead><tr><th>str6</th><th>object</th><th>bool</th><th>Time</th><th>str3</th><th>object</th><th>str12</th></tr></thead>\n",
       "<tr><td>meddea</td><td>None</td><td>False</td><td>2025-05-04 05:51:33</td><td>raw</td><td>None</td><td>photon</td></tr>\n",
       "<tr><td>meddea</td><td>None</td><td>False</td><td>2025-05-04 07:37:54</td><td>raw</td><td>None</td><td>photon</td></tr>\n",
       "<tr><td>meddea</td><td>None</td><td>False</td><td>2025-05-04 08:03:35</td><td>raw</td><td>None</td><td>photon</td></tr>\n",
       "<tr><td>meddea</td><td>None</td><td>False</td><td>2025-05-04 08:18:36</td><td>raw</td><td>None</td><td>photon</td></tr>\n",
       "<tr><td>meddea</td><td>None</td><td>False</td><td>2025-05-04 08:32:39</td><td>raw</td><td>None</td><td>photon</td></tr>\n",
       "<tr><td>meddea</td><td>None</td><td>False</td><td>2025-05-04 08:46:10</td><td>raw</td><td>None</td><td>photon</td></tr>\n",
       "<tr><td>meddea</td><td>None</td><td>False</td><td>2025-05-04 08:59:36</td><td>raw</td><td>None</td><td>photon</td></tr>\n",
       "<tr><td>meddea</td><td>None</td><td>False</td><td>2025-05-04 09:39:11</td><td>raw</td><td>None</td><td>photon</td></tr>\n",
       "<tr><td>meddea</td><td>None</td><td>False</td><td>2025-05-04 09:51:22</td><td>raw</td><td>None</td><td>photon</td></tr>\n",
       "<tr><td>...</td><td>...</td><td>...</td><td>...</td><td>...</td><td>...</td><td>...</td></tr>\n",
       "<tr><td>meddea</td><td>None</td><td>False</td><td>2025-05-04 07:04:26</td><td>raw</td><td>None</td><td>spectrum</td></tr>\n",
       "<tr><td>meddea</td><td>None</td><td>False</td><td>2025-05-04 08:15:36</td><td>raw</td><td>None</td><td>spectrum</td></tr>\n",
       "<tr><td>meddea</td><td>None</td><td>False</td><td>2025-05-04 10:38:26</td><td>raw</td><td>None</td><td>spectrum</td></tr>\n",
       "<tr><td>meddea</td><td>None</td><td>False</td><td>2025-05-04 11:49:36</td><td>raw</td><td>None</td><td>spectrum</td></tr>\n",
       "<tr><td>meddea</td><td>None</td><td>False</td><td>2025-05-04 13:00:56</td><td>raw</td><td>None</td><td>spectrum</td></tr>\n",
       "<tr><td>meddea</td><td>None</td><td>False</td><td>2025-05-04 14:12:26</td><td>raw</td><td>None</td><td>spectrum</td></tr>\n",
       "<tr><td>meddea</td><td>None</td><td>False</td><td>2025-05-04 15:23:46</td><td>raw</td><td>None</td><td>spectrum</td></tr>\n",
       "<tr><td>meddea</td><td>None</td><td>False</td><td>2025-05-04 15:31:20</td><td>raw</td><td>None</td><td>spectrum</td></tr>\n",
       "<tr><td>meddea</td><td>None</td><td>False</td><td>2025-05-04 05:51:34</td><td>raw</td><td>None</td><td>housekeeping</td></tr>\n",
       "<tr><td>meddea</td><td>None</td><td>False</td><td>2025-05-04 15:31:21</td><td>raw</td><td>None</td><td>housekeeping</td></tr>\n",
       "</table></div></br>"
      ],
      "text/plain": [
       "<sunpy.net.fido_factory.UnifiedResponse object at 0x1291bdde0>\n",
       "Results from 1 Provider:\n",
       "\n",
       "36 Results from the PADREClient:\n",
       "\n",
       "Instrument Mode  Test         Time        Level Version  Descriptor \n",
       "---------- ---- ----- ------------------- ----- ------- ------------\n",
       "    meddea None False 2025-05-04 05:51:33   raw    None       photon\n",
       "    meddea None False 2025-05-04 07:37:54   raw    None       photon\n",
       "    meddea None False 2025-05-04 08:03:35   raw    None       photon\n",
       "    meddea None False 2025-05-04 08:18:36   raw    None       photon\n",
       "    meddea None False 2025-05-04 08:32:39   raw    None       photon\n",
       "    meddea None False 2025-05-04 08:46:10   raw    None       photon\n",
       "    meddea None False 2025-05-04 08:59:36   raw    None       photon\n",
       "    meddea None False 2025-05-04 09:39:11   raw    None       photon\n",
       "    meddea None False 2025-05-04 09:51:22   raw    None       photon\n",
       "    meddea None False 2025-05-04 10:03:54   raw    None       photon\n",
       "       ...  ...   ...                 ...   ...     ...          ...\n",
       "    meddea None False 2025-05-04 07:04:26   raw    None     spectrum\n",
       "    meddea None False 2025-05-04 08:15:36   raw    None     spectrum\n",
       "    meddea None False 2025-05-04 10:38:26   raw    None     spectrum\n",
       "    meddea None False 2025-05-04 11:49:36   raw    None     spectrum\n",
       "    meddea None False 2025-05-04 13:00:56   raw    None     spectrum\n",
       "    meddea None False 2025-05-04 14:12:26   raw    None     spectrum\n",
       "    meddea None False 2025-05-04 15:23:46   raw    None     spectrum\n",
       "    meddea None False 2025-05-04 15:31:20   raw    None     spectrum\n",
       "    meddea None False 2025-05-04 05:51:34   raw    None housekeeping\n",
       "    meddea None False 2025-05-04 15:31:21   raw    None housekeeping\n",
       "Length = 36 rows\n"
      ]
     },
     "execution_count": 7,
     "metadata": {},
     "output_type": "execute_result"
    }
   ],
   "source": [
    "results = Fido.search(\n",
    "    a.Time(\"2025-05-01\", \"2025-05-05\") & a.Instrument.meddea & a.Level.raw\n",
    ")\n",
    "results"
   ]
  },
  {
   "cell_type": "markdown",
   "metadata": {},
   "source": [
    "## Test Getting all RAW Housekeeping Data"
   ]
  },
  {
   "cell_type": "code",
   "execution_count": 8,
   "metadata": {},
   "outputs": [
    {
     "data": {
      "text/html": [
       "Results from 1 Provider:</br></br>2 Results from the PADREClient:</br><div><i>QueryResponse length=2</i>\n",
       "<table id=\"table4985960480\" class=\"table-striped table-bordered table-condensed\">\n",
       "<thead><tr><th>Instrument</th><th>Mode</th><th>Test</th><th>Time</th><th>Level</th><th>Version</th><th>Descriptor</th></tr></thead>\n",
       "<thead><tr><th>str6</th><th>object</th><th>bool</th><th>Time</th><th>str3</th><th>object</th><th>str12</th></tr></thead>\n",
       "<tr><td>meddea</td><td>None</td><td>False</td><td>2025-05-04 05:51:34</td><td>raw</td><td>None</td><td>housekeeping</td></tr>\n",
       "<tr><td>meddea</td><td>None</td><td>False</td><td>2025-05-04 15:31:21</td><td>raw</td><td>None</td><td>housekeeping</td></tr>\n",
       "</table></div></br>"
      ],
      "text/plain": [
       "<sunpy.net.fido_factory.UnifiedResponse object at 0x1292fb250>\n",
       "Results from 1 Provider:\n",
       "\n",
       "2 Results from the PADREClient:\n",
       "\n",
       "Instrument Mode  Test         Time        Level Version  Descriptor \n",
       "---------- ---- ----- ------------------- ----- ------- ------------\n",
       "    meddea None False 2025-05-04 05:51:34   raw    None housekeeping\n",
       "    meddea None False 2025-05-04 15:31:21   raw    None housekeeping\n"
      ]
     },
     "execution_count": 8,
     "metadata": {},
     "output_type": "execute_result"
    }
   ],
   "source": [
    "results = Fido.search(\n",
    "    a.Time(\"2025-05-01\", \"2025-05-05\")\n",
    "    & a.Instrument.meddea\n",
    "    & a.Level.raw\n",
    "    & DataType.housekeeping\n",
    ")\n",
    "results"
   ]
  },
  {
   "cell_type": "code",
   "execution_count": 9,
   "metadata": {},
   "outputs": [
    {
     "name": "stderr",
     "output_type": "stream",
     "text": [
      "Files Downloaded:   0%|          | 0/2 [00:00<?, ?file/s]\n",
      "\u001b[A\n",
      "Files Downloaded: 100%|██████████| 2/2 [00:00<00:00,  6.91file/s]\n"
     ]
    },
    {
     "data": {
      "text/plain": [
       "<parfive.results.Results object at 0x1292fbbe0>\n",
       "['/var/folders/5l/_5r0pdg15fxg1_rkgmd3c1dm0000gn/T/tmpkzqr9vxm/PADREMDU8_250504055134.DAT', '/var/folders/5l/_5r0pdg15fxg1_rkgmd3c1dm0000gn/T/tmpkzqr9vxm/PADREMDU8_250504153121.DAT']"
      ]
     },
     "execution_count": 9,
     "metadata": {},
     "output_type": "execute_result"
    }
   ],
   "source": [
    "import tempfile\n",
    "\n",
    "with tempfile.TemporaryDirectory() as temp_dir:\n",
    "    downloaded_files = Fido.fetch(results, path=temp_dir)\n",
    "downloaded_files"
   ]
  }
 ],
 "metadata": {
  "kernelspec": {
   "display_name": "padre",
   "language": "python",
   "name": "python3"
  },
  "language_info": {
   "codemirror_mode": {
    "name": "ipython",
    "version": 3
   },
   "file_extension": ".py",
   "mimetype": "text/x-python",
   "name": "python",
   "nbconvert_exporter": "python",
   "pygments_lexer": "ipython3",
   "version": "3.10.18"
  }
 },
 "nbformat": 4,
 "nbformat_minor": 2
}
